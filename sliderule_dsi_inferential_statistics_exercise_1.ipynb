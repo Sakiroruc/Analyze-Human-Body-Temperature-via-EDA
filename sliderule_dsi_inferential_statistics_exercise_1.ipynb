{
 "cells": [
  {
   "cell_type": "code",
   "execution_count": 1,
   "metadata": {},
   "outputs": [],
   "source": [
    "import pandas as pd\n",
    "import matplotlib.pyplot as plt\n",
    "import scipy.stats\n",
    "import numpy as np\n",
    "df = pd.read_csv('data/human_body_temperature.csv')"
   ]
  },
  {
   "cell_type": "markdown",
   "metadata": {},
   "source": [
    "## 1.) Is the distribution of body temperatures normal?"
   ]
  },
  {
   "cell_type": "code",
   "execution_count": 2,
   "metadata": {},
   "outputs": [
    {
     "name": "stdout",
     "output_type": "stream",
     "text": [
      "NormaltestResult(statistic=2.703801433319203, pvalue=0.2587479863488254)\n",
      "SkewtestResult(statistic=-0.021370491432771, pvalue=0.9829501126135382)\n"
     ]
    },
    {
     "data": {
      "image/png": "[encoded data removed]",
      "text/plain": [
       "<Figure size 432x288 with 1 Axes>"
      ]
     },
     "metadata": {
      "needs_background": "light"
     },
     "output_type": "display_data"
    }
   ],
   "source": [
    "# Your work here.\n",
    "plt.hist(df['temperature'])\n",
    "print(scipy.stats.normaltest(df.temperature))\n",
    "# p value greater than alpha=.05, cannot reject null hypothesis that data is normally distributed\n",
    "print(scipy.stats.skewtest(df.temperature))"
   ]
  },
  {
   "cell_type": "markdown",
   "metadata": {},
   "source": [
    "## 2.)Is the sample size large? Are the observations independent?"
   ]
  },
  {
   "cell_type": "code",
   "execution_count": 3,
   "metadata": {},
   "outputs": [
    {
     "data": {
      "text/plain": [
       "130"
      ]
     },
     "execution_count": 3,
     "metadata": {},
     "output_type": "execute_result"
    }
   ],
   "source": [
    "len(df.temperature)"
   ]
  },
  {
   "cell_type": "markdown",
   "metadata": {},
   "source": [
    "n=130 seems big enough for central limit theorem to apply.  Of course this is a small sample compared to number of all humans. This would need more background info on how the dataset was acquired to determine if each temperature is truly independent, but that seems to be the case in this context.\n"
   ]
  },
  {
   "cell_type": "markdown",
   "metadata": {},
   "source": [
    "## 3.) Is the true population mean really 98.6 degrees F?"
   ]
  },
  {
   "cell_type": "code",
   "execution_count": 5,
   "metadata": {},
   "outputs": [
    {
     "name": "stdout",
     "output_type": "stream",
     "text": [
      "p =  0.0\n",
      "-5.4759252020785585\n"
     ]
    },
    {
     "data": {
      "text/plain": [
       "Ttest_1sampResult(statistic=-5.4548232923645195, pvalue=2.4106320415561276e-07)"
      ]
     },
     "execution_count": 5,
     "metadata": {},
     "output_type": "execute_result"
    }
   ],
   "source": [
    "# bootstrap hypothesis test:\n",
    "temps = np.array(df.temperature)\n",
    "shifted_temps = temps - np.mean(temps) + 98.6\n",
    "bs_replicates = np.empty(10000)\n",
    "for i in range(10000):\n",
    "        bs_replicates[i] = np.mean(np.random.choice(shifted_temps, size=len(shifted_temps)))\n",
    "\n",
    "p = np.sum(bs_replicates <= np.mean(temps))/10000\n",
    "print('p = ', p)\n",
    "# p-value of zero suggest the null hypothesis is false and should be rejected.\n",
    "# 'frequentist' tests:\n",
    "# No need to use a two sample test.\n",
    "# Since n is greater than 30 we should use z-score but because the population standard deviation is unknown\n",
    "# I have to estimate it with the sample standard deviation so arguably either test could be used.\n",
    "Z = (np.mean(temps)-98.6)/(np.std(temps)/np.sqrt(len(temps)))\n",
    "print(Z)\n",
    "scipy.stats.ttest_1samp(temps,98.6)\n",
    "# both tests indicate that there is an extremely low probability that this sample was drawn from a population with a mean of \n",
    "# 98.6 and the null should be rejected.  The slight differences are because the two statistics use different distributions."
   ]
  },
  {
   "cell_type": "markdown",
   "metadata": {},
   "source": [
    "## 4.) Draw a small sample of size 10 from the data and repeat both frequentist tests."
   ]
  },
  {
   "cell_type": "code",
   "execution_count": 6,
   "metadata": {},
   "outputs": [
    {
     "name": "stdout",
     "output_type": "stream",
     "text": [
      "-1.8830065177034454\n"
     ]
    },
    {
     "data": {
      "text/plain": [
       "Ttest_1sampResult(statistic=-1.7863768334655177, pvalue=0.10768595707413557)"
      ]
     },
     "execution_count": 6,
     "metadata": {},
     "output_type": "execute_result"
    }
   ],
   "source": [
    "sample = np.random.choice(temps,size=10,replace=False)\n",
    "Z = (np.mean(sample)-98.6)/(np.std(sample)/np.sqrt(len(sample)))\n",
    "print(Z)\n",
    "scipy.stats.ttest_1samp(sample,98.6)"
   ]
  },
  {
   "cell_type": "markdown",
   "metadata": {},
   "source": [
    "The t-test is the right one to use because n<30.\n",
    "There is now a greater difference between the t and Z statistics. This t-test now gives less than 99% confidence for the rejection of the null hypothesis. The t test and Z test converge as the sample size increases."
   ]
  },
  {
   "cell_type": "markdown",
   "metadata": {},
   "source": [
    "## 5.) At what temperature should we consider someone's temperature to be \"abnormal\"?"
   ]
  },
  {
   "cell_type": "code",
   "execution_count": 7,
   "metadata": {},
   "outputs": [
    {
     "name": "stdout",
     "output_type": "stream",
     "text": [
      "margin of error 0.12555096480257902\n",
      "abnormally low 96.82598237455335 abnormally high 99.67247916390815\n",
      "abnormally low 98.12367980442816 abnormally high 98.37478173403333\n"
     ]
    }
   ],
   "source": [
    "# 99.7% confidence interval in a normal distribution\n",
    "standarderror=np.std(temps)/np.sqrt(len(temps)) #standard error\n",
    "marginoferror=1.96*standarderror\n",
    "print('margin of error',marginoferror)\n",
    "# bootstrap approach for calculating abnormal temperatures, taking the standard deviations of 10,000 simulated samples\n",
    "bs_replicates = np.empty(10000)\n",
    "for i in range(10000):\n",
    "        bs_replicates[i] = np.std(np.random.choice(temps, size=len(temps)))\n",
    "abnormal_low = np.mean(temps) - 1.96*np.mean(bs_replicates)\n",
    "abnormal_high = np.mean(temps) + 1.96*np.mean(bs_replicates)\n",
    "print('abnormally low',abnormal_low,'abnormally high',abnormal_high)\n",
    "# frequentist approach\n",
    "abnormal_low = np.mean(temps) - marginoferror\n",
    "abnormal_high = np.mean(temps) + marginoferror\n",
    "print('abnormally low',abnormal_low,'abnormally high',abnormal_high)"
   ]
  },
  {
   "cell_type": "markdown",
   "metadata": {},
   "source": [
    "## 6.) Is there a significant difference between males and females in normal temperature?"
   ]
  },
  {
   "cell_type": "code",
   "execution_count": 8,
   "metadata": {},
   "outputs": [
    {
     "name": "stdout",
     "output_type": "stream",
     "text": [
      "male mean 98.10461538461537\n",
      "female mean 98.39384615384614\n",
      "observed differed 0.2892307692307696\n"
     ]
    }
   ],
   "source": [
    "males= df.loc[df['gender']=='M']\n",
    "females= df.loc[df['gender']=='F']\n",
    "male_temps = np.array(males.temperature)\n",
    "female_temps = np.array(females.temperature)\n",
    "mu1 = np.mean(male_temps)\n",
    "mu2 = np.mean(female_temps)\n",
    "diff = mu2-mu1\n",
    "n1 = len(male_temps)\n",
    "n2 = len(female_temps)\n",
    "std1 = np.std(male_temps)\n",
    "std2 = np.std(female_temps)\n",
    "print('male mean',mu1)\n",
    "print('female mean',mu2)\n",
    "print('observed differed',diff)\n",
    "criticalZ = 1.96"
   ]
  },
  {
   "cell_type": "markdown",
   "metadata": {},
   "source": [
    "I will use a null hypothesis so that there is no difference bewteen the mean temperature of males and females.\n",
    "i.e. mu1 - mu2 = 0.  For alpha of .05 (or 95% confidence) the critical z value for a normalized standard distribution is approximately 1.96. \n",
    "I will calculate the standard deviation of the distribution of the difference in means and multiply it by the critical z score to obtain the critical difference of means for 95% confidence."
   ]
  },
  {
   "cell_type": "code",
   "execution_count": 9,
   "metadata": {},
   "outputs": [
    {
     "name": "stdout",
     "output_type": "stream",
     "text": [
      "critical difference 0.24613030301613179\n",
      "p value 0.021266451830110222\n"
     ]
    }
   ],
   "source": [
    "diffofmeanstd = np.sqrt((std1**2/n1)+(std2**2/n2))\n",
    "criticaldiffofmeans = diffofmeanstd*criticalZ\n",
    "print('critical difference',criticaldiffofmeans)\n",
    "p_value = (1-scipy.stats.norm.cdf(diff/diffofmeanstd))*2\n",
    "print('p value',p_value)"
   ]
  },
  {
   "cell_type": "markdown",
   "metadata": {},
   "source": [
    "The critical difference in means is ~ 0.243 which is less than the observed difference. Reject the null hypothesis here. This means there is 5% chance of getting a difference greater in magnitude than 0.243 if the null is true.\n",
    "It should be noted it still plausible that the null is true. This suggests women have a higher average body temperature than men."
   ]
  },
  {
   "cell_type": "code",
   "execution_count": null,
   "metadata": {},
   "outputs": [],
   "source": []
  }
 ],
 "metadata": {
  "kernelspec": {
   "display_name": "Python 3",
   "language": "python",
   "name": "python3"
  },
  "language_info": {
   "codemirror_mode": {
    "name": "ipython",
    "version": 3
   },
   "file_extension": ".py",
   "mimetype": "text/x-python",
   "name": "python",
   "nbconvert_exporter": "python",
   "pygments_lexer": "ipython3",
   "version": "3.7.1"
  }
 },
 "nbformat": 4,
 "nbformat_minor": 1
}
